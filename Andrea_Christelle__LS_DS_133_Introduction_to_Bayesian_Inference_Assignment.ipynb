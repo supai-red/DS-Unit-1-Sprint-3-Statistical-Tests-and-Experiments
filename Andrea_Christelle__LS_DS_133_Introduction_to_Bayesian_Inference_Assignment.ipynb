{
  "nbformat": 4,
  "nbformat_minor": 0,
  "metadata": {
    "colab": {
      "name": "Andrea_Christelle_ LS_DS_133_Introduction_to_Bayesian_Inference_Assignment.ipynb",
      "version": "0.3.2",
      "provenance": [],
      "include_colab_link": true
    },
    "kernelspec": {
      "name": "python3",
      "display_name": "Python 3"
    }
  },
  "cells": [
    {
      "cell_type": "markdown",
      "metadata": {
        "id": "view-in-github",
        "colab_type": "text"
      },
      "source": [
        "<a href=\"https://colab.research.google.com/github/supai-red/DS-Unit-1-Sprint-3-Statistical-Tests-and-Experiments/blob/master/Andrea_Christelle__LS_DS_133_Introduction_to_Bayesian_Inference_Assignment.ipynb\" target=\"_parent\"><img src=\"https://colab.research.google.com/assets/colab-badge.svg\" alt=\"Open In Colab\"/></a>"
      ]
    },
    {
      "cell_type": "markdown",
      "metadata": {
        "id": "H7OLbevlbd_Z",
        "colab_type": "text"
      },
      "source": [
        "# Lambda School Data Science Module 133\n",
        "\n",
        "## Introduction to Bayesian Inference\n",
        "\n",
        "\n"
      ]
    },
    {
      "cell_type": "markdown",
      "metadata": {
        "id": "P-DzzRk5bf0z",
        "colab_type": "text"
      },
      "source": [
        "## Assignment - Code it up!\n",
        "\n",
        "Most of the above was pure math - now write Python code to reproduce the results! This is purposefully open ended - you'll have to think about how you should represent probabilities and events. You can and should look things up, and as a stretch goal - refactor your code into helpful reusable functions!\n",
        "\n",
        "Specific goals/targets:\n",
        "\n",
        "1. Write a function `def prob_drunk_given_positive(prob_drunk_prior, prob_positive, prob_positive_drunk)` that reproduces the example from lecture, and use it to calculate and visualize a range of situations\n",
        "2. Explore `scipy.stats.bayes_mvs` - read its documentation, and experiment with it on data you've tested in other ways earlier this week\n",
        "3. Create a visualization comparing the results of a Bayesian approach to a traditional/frequentist approach\n",
        "4. In your own words, summarize the difference between Bayesian and Frequentist statistics\n",
        "\n",
        "If you're unsure where to start, check out [this blog post of Bayes theorem with Python](https://dataconomy.com/2015/02/introduction-to-bayes-theorem-with-python/) - you could and should create something similar!\n",
        "\n",
        "Stretch goals:\n",
        "\n",
        "- Apply a Bayesian technique to a problem you previously worked (in an assignment or project work) on from a frequentist (standard) perspective\n",
        "- Check out [PyMC3](https://docs.pymc.io/) (note this goes beyond hypothesis tests into modeling) - read the guides and work through some examples\n",
        "- Take PyMC3 further - see if you can build something with it!"
      ]
    },
    {
      "cell_type": "code",
      "metadata": {
        "id": "xpVhZyUnbf7o",
        "colab_type": "code",
        "colab": {}
      },
      "source": [
        "# TODO - code!"
      ],
      "execution_count": 0,
      "outputs": []
    },
    {
      "cell_type": "markdown",
      "metadata": {
        "id": "Ua53oFcyt5d4",
        "colab_type": "text"
      },
      "source": [
        "**1. Write a function def prob_drunk_given_positive(prob_drunk_prior, prob_positive, prob_positive_drunk) that reproduces the example from lecture, and use it to calculate and visualize a range of situations**\n",
        " \n",
        "\n"
      ]
    },
    {
      "cell_type": "markdown",
      "metadata": {
        "id": "Uv5sVbsg70yr",
        "colab_type": "text"
      },
      "source": [
        ""
      ]
    },
    {
      "cell_type": "code",
      "metadata": {
        "id": "WvT0DqkXQwDS",
        "colab_type": "code",
        "colab": {
          "base_uri": "https://localhost:8080/",
          "height": 34
        },
        "outputId": "cb381c7b-c14e-460e-b77d-6c99dd0f080c"
      },
      "source": [
        "#Frequentist confidence interval function\n",
        "\n",
        "def confidence_interval(data, confidence = .95):\n",
        "  n = len(data)\n",
        "  mean = sum(data)/n\n",
        "  data = np.array(data)\n",
        "  stderr = stats.sem(data) #sem=standard error of mean\n",
        "  interval = stderr*stats.t.ppf((1 + confidence) / 2.0, n-1)\n",
        "  return (mean, mean-interval, mean+interval) #mean, lower bound, upper bound\n",
        "\n",
        "confidence_interval(coinflips)\n",
        "\n",
        "#If the confidence level was higher (.99) the interval would be wider\n",
        "# since it would have to account for more of the population; if the confidence\n",
        "#interval were lower (.9), the interval would be narrower since less of the \n",
        "#population would be included"
      ],
      "execution_count": 15,
      "outputs": [
        {
          "output_type": "execute_result",
          "data": {
            "text/plain": [
              "(0.47, 0.3704689875017368, 0.5695310124982632)"
            ]
          },
          "metadata": {
            "tags": []
          },
          "execution_count": 15
        }
      ]
    },
    {
      "cell_type": "code",
      "metadata": {
        "id": "atCaMHEMJa5Q",
        "colab_type": "code",
        "colab": {
          "base_uri": "https://localhost:8080/",
          "height": 68
        },
        "outputId": "53d20c92-0305-4973-b0c8-479af1f0bcd5"
      },
      "source": [
        "#frequentist approach\n",
        "\n",
        "from scipy import stats\n",
        "import numpy as np\n",
        "\n",
        "np.random.seed(seed=42)\n",
        "#setting a random seed tells the generator to start at the same place every time.\n",
        "#Set Random Seed for Reproducibility \n",
        "\n",
        "coinflips = np.random.binomial(n=1, p=.5, size=100)\n",
        "print(coinflips)"
      ],
      "execution_count": 6,
      "outputs": [
        {
          "output_type": "stream",
          "text": [
            "[0 1 1 1 0 0 0 1 1 1 0 1 1 0 0 0 0 1 0 0 1 0 0 0 0 1 0 1 1 0 1 0 0 1 1 1 0\n",
            " 0 1 0 0 0 0 1 0 1 0 1 1 0 1 1 1 1 1 1 0 0 0 0 0 0 1 0 0 1 0 1 0 1 1 0 0 1\n",
            " 1 1 1 0 0 0 1 1 0 0 0 0 1 1 1 0 0 1 1 1 1 0 1 0 0 0]\n"
          ],
          "name": "stdout"
        }
      ]
    },
    {
      "cell_type": "code",
      "metadata": {
        "id": "PWWhroo2TKT7",
        "colab_type": "code",
        "colab": {
          "base_uri": "https://localhost:8080/",
          "height": 34
        },
        "outputId": "465b76d6-ab61-4452-c5ca-81b37789bce6"
      },
      "source": [
        "#Bayesian confidence interval function\n",
        "#using stats from SciPy\n",
        "\n",
        "bayes_mean_CI, _, _ = stats.bayes_mvs(coinflips, alpha=.95)\n",
        "bayes_mean_CI\n",
        "#returns three named tuples (mean, std, var)\n",
        "\n",
        "#These examples show that in many instances Bayesian and frequentist\n",
        "#approaches return the same (or very similar) results."
      ],
      "execution_count": 19,
      "outputs": [
        {
          "output_type": "execute_result",
          "data": {
            "text/plain": [
              "Mean(statistic=0.47, minmax=(0.37046898750173674, 0.5695310124982632))"
            ]
          },
          "metadata": {
            "tags": []
          },
          "execution_count": 19
        }
      ]
    },
    {
      "cell_type": "code",
      "metadata": {
        "id": "3OIfynAKU73U",
        "colab_type": "code",
        "colab": {}
      },
      "source": [
        "#using the \"??\" pulls up the code so you can see under the hood. May be\n",
        "#helpful in using function or method more wisely.\n",
        "??stats.bayes_mvs"
      ],
      "execution_count": 0,
      "outputs": []
    },
    {
      "cell_type": "code",
      "metadata": {
        "id": "GAS0Fco0UB0a",
        "colab_type": "code",
        "colab": {
          "base_uri": "https://localhost:8080/",
          "height": 68
        },
        "outputId": "c42c6d58-c19a-4bb3-a4c5-689bab38e02f"
      },
      "source": [
        "#Filling out std and var for fun\n",
        "bayes_mean_CI, std, var = stats.bayes_mvs(coinflips, alpha=.95)\n",
        "bayes_mean_CI, std, var\n",
        "\n",
        "#DS6: @ 1:50 nice discussion of how libraries are connected to github\n",
        "#and why to be specific about imports"
      ],
      "execution_count": 21,
      "outputs": [
        {
          "output_type": "execute_result",
          "data": {
            "text/plain": [
              "(Mean(statistic=0.47, minmax=(0.37046898750173674, 0.5695310124982632)),\n",
              " Variance(statistic=0.25680412371134015, minmax=(0.1939698977025208, 0.3395533426586547)),\n",
              " Std_dev(statistic=0.5054540733507159, minmax=(0.44042013771229943, 0.5827120581030176)))"
            ]
          },
          "metadata": {
            "tags": []
          },
          "execution_count": 21
        }
      ]
    },
    {
      "cell_type": "code",
      "metadata": {
        "id": "Cl1vLZyjWt7v",
        "colab_type": "code",
        "colab": {}
      },
      "source": [
        " #sample from sample 1:54 used for bootstrapping and resampling"
      ],
      "execution_count": 0,
      "outputs": []
    },
    {
      "cell_type": "code",
      "metadata": {
        "id": "W6sie8H7q2tO",
        "colab_type": "code",
        "colab": {}
      },
      "source": [
        "\n",
        "\n",
        "define variables given:\n",
        "  sensitivity = .99 #aka true positive\n",
        "  specificity - (1-.99) # false positive\n",
        "  prior = .005\n",
        "\n",
        "def bayes_theorem(prior, sensitivity, specificity, iteration = 5):\n",
        "\n",
        "\n",
        "probabilities = []\n",
        "prime_prior = 1 - prior\n",
        "\n",
        "  for probability in range (iteration):\n",
        "  chance = sensitivity * prior) / ((sensitivity* prior ) + specificity * prime_prior)))\n",
        "\n",
        "  probabilites.append(chance)\n",
        "  prior = chance\n",
        "  return probabilities \n",
        "\n",
        "\n"
      ],
      "execution_count": 0,
      "outputs": []
    },
    {
      "cell_type": "code",
      "metadata": {
        "id": "1JLusOK0Jmfb",
        "colab_type": "code",
        "colab": {}
      },
      "source": [
        ""
      ],
      "execution_count": 0,
      "outputs": []
    },
    {
      "cell_type": "markdown",
      "metadata": {
        "id": "Xkfz4g-OH5-s",
        "colab_type": "text"
      },
      "source": [
        ""
      ]
    },
    {
      "cell_type": "markdown",
      "metadata": {
        "id": "52cBDvLpIRN7",
        "colab_type": "text"
      },
      "source": [
        "### 2. Explore scipy.stats.bayes_mvs - read its documentation, and experiment with it on data you've tested in other ways earlier this week\n",
        "[SciPy Bayes](https://docs.scipy.org/doc/scipy/reference/generated/scipy.stats.bayes_mvs.html)\n",
        "\n",
        "mvs = Mean, Variance, Standard Deviation - can calculate a confidence interval around any of these"
      ]
    },
    {
      "cell_type": "markdown",
      "metadata": {
        "colab_type": "text",
        "id": "pVOazHqYH6gd"
      },
      "source": [
        "### 3. Create a visualization comparing the results of a Bayesian approach to a traditional/frequentist approach\n"
      ]
    },
    {
      "cell_type": "markdown",
      "metadata": {
        "id": "d7HFsW5BtMxQ",
        "colab_type": "text"
      },
      "source": [
        "###4. In your own words, summarize the difference between Bayesian and Frequentist statistics\n",
        "A Bayesian approach takes into account prior beliefs and allows us to update beliefs based on new evidence. A frequentist approach returns only calculations. The Bayesian approach was a response to (some) unintuitive and incorrect frequentist conclusions.\n",
        "\n",
        "**Bayes theorom** follows from the law of **conditional probability.** The law of conditional probability takes into account the probability of the first event happening in the first place. It has a conditional form. What is the probability of something, conditioned on something else?\n",
        "\n",
        "The unconditioned probabilities are referred to as \"prior beliefs.\" The conditioned probabilities are \"updated\".\n",
        "\n",
        "The **base rate fallacy** is a formal fallacy. If presented with (i) general information and (ii) specific information, the mind tends to ignore (i) and focus on (ii). Alternatively known as **base rate neglect** this is a specific form of the more general **extension neglect**. (See wiki.)\n",
        "\n",
        "DS 6 1:17 for an example of reasoning through set probability. \n",
        "\n",
        "DS6 1:18 Nice comment on how people tend **not** to be Bayesian in many instances, and this can inform how we understand ourselves as thinkers.\n",
        "\n",
        "**Type 1 error \"false positive\"** - the error of rejecting a null hypohtesis which is actually true. (Boy who cried wolf - no wolf.)\n",
        "\n",
        "**Type 2 error \"false negative\"** - the error of *not* rejecting a null hypothesis when the alternative hypothesis is the \"true state of nature.\" (Boy who cried wolf - not believed.)\n",
        "[stat.berkeley.edu](https://www.stat.berkeley.edu/~hhuang/STAT141/Lecture-FDR.pdf)\n",
        "\n"
      ]
    },
    {
      "cell_type": "markdown",
      "metadata": {
        "id": "uWgWjp3PQ3Sq",
        "colab_type": "text"
      },
      "source": [
        "## Resources"
      ]
    },
    {
      "cell_type": "markdown",
      "metadata": {
        "id": "QRgHqmYIQ9qn",
        "colab_type": "text"
      },
      "source": [
        "- [Worked example of Bayes rule calculation](https://en.wikipedia.org/wiki/Bayes'_theorem#Examples) (helpful as it fully breaks out the denominator)\n",
        "- [Source code for mvsdist in scipy](https://github.com/scipy/scipy/blob/90534919e139d2a81c24bf08341734ff41a3db12/scipy/stats/morestats.py#L139)"
      ]
    }
  ]
}